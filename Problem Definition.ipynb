{
 "cells": [
  {
   "cell_type": "markdown",
   "metadata": {},
   "source": [
    "This project will produce the high demanded product beta carotene in a more efficient and environmentally friendly way. Beta carotene have been used as a dye for both human and animal feed for many years. Today’s production of beta carotene is 95% chemical and 5% natural. This chemical produced beta carotene can be damaging to the environment and moreover the increased focus on human health and natural produced products demands for a more sustainable and natural production. It would therefore have an effect on the climate change mitigation to change a larger part of the chemical produced beta-carotene to bioproduced beta-carotene.\n",
    "\n",
    "To achieve this, the heterologous pathway for beta-carotene can be introduced into the marine bacterium *V. natriegens*. This bacterium has shown to be fast-growing and therefore an efficient organism for a cell factory. One of the reasons it is interesting to introduce the beta-carotene pathway into *V. natriegens* instead of using for example *Yarrowia lipolytica* is that *V. natriegens* has shown good results being cultivated in sea water. This will reduce the use of drinking water significantly and as clean drinking water is a limiting resource it can help the UN with sustainable development goal 6. "
   ]
  },
  {
   "cell_type": "code",
   "execution_count": null,
   "metadata": {},
   "outputs": [],
   "source": []
  }
 ],
 "metadata": {
  "kernelspec": {
   "display_name": "python3.6",
   "language": "python",
   "name": "python3.6"
  },
  "language_info": {
   "codemirror_mode": {
    "name": "ipython",
    "version": 3
   },
   "file_extension": ".py",
   "mimetype": "text/x-python",
   "name": "python",
   "nbconvert_exporter": "python",
   "pygments_lexer": "ipython3",
   "version": "3.6.12"
  }
 },
 "nbformat": 4,
 "nbformat_minor": 4
}
