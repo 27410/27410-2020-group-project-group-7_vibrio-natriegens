{
 "cells": [
  {
   "cell_type": "markdown",
   "metadata": {},
   "source": [
    "The market for beta-carotene will increase the coming years and therefore a more efficient way of producing the compound can be necessary. By introducing the heterologous pathway for beta-carotene production into the bacterium *V. natriegens* one would have an efficient and fast-growing organism as a cell factory for beta-carotene production.\n",
    "\n",
    "Today beta-carotene is mainly produced chemically which can be damaging to the environment. It would therefore have an effect on the climate change mitigation to change a larger part of the chemical produced beta-carotene to bioproduced beta-carotene. One of the reasons it is interesting to introduce the beta-carotene pathway into *V. natriegens* instead of using for example *Yarrowia lipolytica* is that *V. natriegens* has shown good results being cultivated in sea water. This will reduce the use of drinking water significantly and as clean drinking water is a limiting resource it can help the UN with sustainable development goal 6."
   ]
  },
  {
   "cell_type": "code",
   "execution_count": null,
   "metadata": {},
   "outputs": [],
   "source": []
  }
 ],
 "metadata": {
  "kernelspec": {
   "display_name": "python3.6",
   "language": "python",
   "name": "python3.6"
  },
  "language_info": {
   "codemirror_mode": {
    "name": "ipython",
    "version": 3
   },
   "file_extension": ".py",
   "mimetype": "text/x-python",
   "name": "python",
   "nbconvert_exporter": "python",
   "pygments_lexer": "ipython3",
   "version": "3.6.12"
  }
 },
 "nbformat": 4,
 "nbformat_minor": 4
}
