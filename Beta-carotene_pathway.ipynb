{
 "cells": [
  {
   "cell_type": "code",
   "execution_count": 2,
   "metadata": {},
   "outputs": [],
   "source": [
    "from cobra import Reaction, Metabolite"
   ]
  },
  {
   "cell_type": "markdown",
   "metadata": {},
   "source": [
    "**Reaction 1**"
   ]
  },
  {
   "cell_type": "code",
   "execution_count": 3,
   "metadata": {},
   "outputs": [],
   "source": [
    "Reaction_1_beta=Reaction('Step1_beta')  # 2 Geranylgeranyl diphosphate <=> Diphosphate + Prephytoene diphosphate\n",
    "\n",
    "Prephytoene_PP=Metabolite(id='Prephyteoene_pp_c', compartment='c')\n",
    "\n",
    "Reaction_1_beta.add_metabolites({model.metabolites.GPP: -2, #Find navn for GPP\n",
    "                              Prephytoene_PP: 1, # our newly created metabolites\n",
    "                              model.metabolites.Diphosphate: 1 #Find navn i tabel\n",
    "                             })"
   ]
  },
  {
   "cell_type": "markdown",
   "metadata": {},
   "source": [
    "**Reaction 2**"
   ]
  },
  {
   "cell_type": "code",
   "execution_count": null,
   "metadata": {},
   "outputs": [],
   "source": [
    "Reaction_2_beta=Reaction('Step2_beta')  # Prephytoene diphosphate <=> Diphosphate + 15-cis-Phytoene\n",
    "\n",
    "Phytoene=Metabolite(id='Phytoene_c', compartment='c')\n",
    "\n",
    "Reaction_2_beta.add_metabolites({model.metabolites.Prephyteoene_pp_c: -1, #made in reaction 1\n",
    "                              Phytoene: 1, # our newly created metabolite\n",
    "                              model.metabolites.Diphosphate: 1 #Find navn i tabel\n",
    "                             })"
   ]
  },
  {
   "cell_type": "markdown",
   "metadata": {},
   "source": [
    "**Reaction 3**"
   ]
  },
  {
   "cell_type": "code",
   "execution_count": 4,
   "metadata": {},
   "outputs": [
    {
     "ename": "NameError",
     "evalue": "name 'model' is not defined",
     "output_type": "error",
     "traceback": [
      "\u001b[0;31m---------------------------------------------------------------------------\u001b[0m",
      "\u001b[0;31mNameError\u001b[0m                                 Traceback (most recent call last)",
      "\u001b[0;32m<ipython-input-4-900e3ca7a674>\u001b[0m in \u001b[0;36m<module>\u001b[0;34m\u001b[0m\n\u001b[1;32m      3\u001b[0m \u001b[0mPhytofluene\u001b[0m\u001b[0;34m=\u001b[0m\u001b[0mMetabolite\u001b[0m\u001b[0;34m(\u001b[0m\u001b[0mid\u001b[0m\u001b[0;34m=\u001b[0m\u001b[0;34m'Phytofluene_c'\u001b[0m\u001b[0;34m,\u001b[0m \u001b[0mcompartment\u001b[0m\u001b[0;34m=\u001b[0m\u001b[0;34m'c'\u001b[0m\u001b[0;34m)\u001b[0m\u001b[0;34m\u001b[0m\u001b[0;34m\u001b[0m\u001b[0m\n\u001b[1;32m      4\u001b[0m \u001b[0;34m\u001b[0m\u001b[0m\n\u001b[0;32m----> 5\u001b[0;31m Reaction_3_beta.add_metabolites({model.metabolites.Phytoene: -1, #made in reaction 2\n\u001b[0m\u001b[1;32m      6\u001b[0m                               \u001b[0mPhytofluene\u001b[0m\u001b[0;34m:\u001b[0m \u001b[0;36m1\u001b[0m \u001b[0;31m# our newly created metabolite\u001b[0m\u001b[0;34m\u001b[0m\u001b[0;34m\u001b[0m\u001b[0m\n\u001b[1;32m      7\u001b[0m                              })\n",
      "\u001b[0;31mNameError\u001b[0m: name 'model' is not defined"
     ]
    }
   ],
   "source": [
    "Reaction_3_beta=Reaction('Step3_beta')  # 15-cis-Phytoene + Acceptor <=> all-trans-Phytofluene + Reduced acceptor\n",
    "\n",
    "Phytofluene=Metabolite(id='Phytofluene_c', compartment='c')\n",
    "\n",
    "Reaction_3_beta.add_metabolites({model.metabolites.Phytoene_c: -1, #made in reaction 2\n",
    "                              Phytofluene: 1 # our newly created metabolite\n",
    "                             })"
   ]
  },
  {
   "cell_type": "markdown",
   "metadata": {},
   "source": [
    "**Reaction 4**"
   ]
  },
  {
   "cell_type": "code",
   "execution_count": null,
   "metadata": {},
   "outputs": [],
   "source": [
    "Reaction_4_beta=Reaction('Step4_beta')  # all-trans-Phytofluene + Acceptor <=> all-trans-zeta-Carotene + Reduced acceptor\n",
    "\n",
    "zeta_carotene=Metabolite(id='zeta_carotene_c', compartment='c')\n",
    "\n",
    "Reaction_4_beta.add_metabolites({model.metabolites.Phytofluene_c: -1, #made in reaction 3\n",
    "                              zeta_carotene: 1 # our newly created metabolite\n",
    "                             })"
   ]
  },
  {
   "cell_type": "markdown",
   "metadata": {},
   "source": [
    "**Reaction 5**"
   ]
  },
  {
   "cell_type": "code",
   "execution_count": null,
   "metadata": {},
   "outputs": [],
   "source": [
    "Reaction_5_beta=Reaction('Step5_beta')  # all-trans-zeta-Carotene + Reduced acceptor + Oxygen <=> all-trans-Neurosporene + 2 H2O + Acceptor\n",
    "\n",
    "neurosporene=Metabolite(id='neurosporene_c', compartment='c')\n",
    "\n",
    "Reaction_5_beta.add_metabolites({model.metabolites.zeta_carotene_c: -1, #made in reaction 4\n",
    "                                 model.metabolites.oxygen: -1, #find rigtige navn**\n",
    "                              neurosporene: 1, # our newly created metabolite\n",
    "                                model.metabolites.h20: 2 #find rigtige navn\n",
    "                             })"
   ]
  },
  {
   "cell_type": "markdown",
   "metadata": {},
   "source": [
    "**Reaction 6**"
   ]
  },
  {
   "cell_type": "code",
   "execution_count": null,
   "metadata": {},
   "outputs": [],
   "source": [
    "Reaction_6_beta=Reaction('Step6_beta')  # all-trans-Neurosporene + Reduced acceptor + Oxygen <=> Lycopene + Acceptor + 2 H2O\n",
    "\n",
    "Lycopene=Metabolite(id='lycopene_c', compartment='c')\n",
    "\n",
    "Reaction_6_beta.add_metabolites({model.metabolites.neurosporene_c: -1, #made in reaction 5\n",
    "                                 model.metabolites.oxygen: -1, #find rigtige navn**\n",
    "                              Lycopene: 1, # our newly created metabolite\n",
    "                                 model.metabolites.h20: 2  #find rigtige navn\n",
    "                             })"
   ]
  },
  {
   "cell_type": "markdown",
   "metadata": {},
   "source": [
    "**Reaction 7**"
   ]
  },
  {
   "cell_type": "code",
   "execution_count": null,
   "metadata": {},
   "outputs": [],
   "source": [
    "Reaction_7_beta=Reaction('Step7_beta')  # Lycopene <=> gamma-Carotene\n",
    "\n",
    "Gamma_carotene=Metabolite(id='gamma_carotene_c', compartment='c')\n",
    "\n",
    "Reaction_7_beta.add_metabolites({model.metabolites.lycopene_c: -1, #made in reaction 6\n",
    "                              Gamma_carotene: 1\n",
    "                             })"
   ]
  },
  {
   "cell_type": "markdown",
   "metadata": {},
   "source": [
    "**Reaction 8**"
   ]
  },
  {
   "cell_type": "code",
   "execution_count": null,
   "metadata": {},
   "outputs": [],
   "source": [
    "Reaction_8_beta=Reaction('Step8_beta')  # gamma-Carotene <=> beta-Carotene\n",
    "\n",
    "Beta_carotene=Metabolite(id='Beta_carotene_c', compartment='c')\n",
    "\n",
    "Reaction_8_beta.add_metabolites({model.metabolites.gamma_carotene_c: -1, #made in reaction 7\n",
    "                              Beta_carotene: 1\n",
    "                             })"
   ]
  }
 ],
 "metadata": {
  "kernelspec": {
   "display_name": "python3.6",
   "language": "python",
   "name": "python3.6"
  },
  "language_info": {
   "codemirror_mode": {
    "name": "ipython",
    "version": 3
   },
   "file_extension": ".py",
   "mimetype": "text/x-python",
   "name": "python",
   "nbconvert_exporter": "python",
   "pygments_lexer": "ipython3",
   "version": "3.6.12"
  }
 },
 "nbformat": 4,
 "nbformat_minor": 4
}
