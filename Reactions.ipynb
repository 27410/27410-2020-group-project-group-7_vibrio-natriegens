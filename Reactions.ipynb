{
 "cells": [
  {
   "cell_type": "code",
   "execution_count": 1,
   "metadata": {},
   "outputs": [],
   "source": [
    "from cobra import Reaction, Metabolite"
   ]
  },
  {
   "cell_type": "markdown",
   "metadata": {},
   "source": [
    "# MVA Pathway\n",
    "\n",
    "**Reaction 1**\n",
    "\n",
    "Er måske tilstede i modellen i forvejen"
   ]
  },
  {
   "cell_type": "code",
   "execution_count": 2,
   "metadata": {},
   "outputs": [
    {
     "ename": "SyntaxError",
     "evalue": "invalid syntax (<ipython-input-2-dd39920c7c8b>, line 6)",
     "output_type": "error",
     "traceback": [
      "\u001b[0;36m  File \u001b[0;32m\"<ipython-input-2-dd39920c7c8b>\"\u001b[0;36m, line \u001b[0;32m6\u001b[0m\n\u001b[0;31m    model??.metabolites.coa_c: 1\u001b[0m\n\u001b[0m         ^\u001b[0m\n\u001b[0;31mSyntaxError\u001b[0m\u001b[0;31m:\u001b[0m invalid syntax\n"
     ]
    }
   ],
   "source": [
    "Step_1_mva = Reaction('Step_1_mva')  # Acetyl-CoA <=> CoA + Acetoacetyl-CoA\n",
    "acetyl_coa = Metabolite(id='Acetyl_Coa_c', compartment='c')\n",
    "acetoacetyl_coa = Metabolite(id='Acetoacetyl_Coa_c', compartment='c')\n",
    "Step_1_mva.add_metabolites({acetyl_coa: -1,\n",
    "                            acetoacetyl_coa: 1,\n",
    "                            model??.metabolites.coa_c: 1\n",
    "                           })"
   ]
  },
  {
   "cell_type": "markdown",
   "metadata": {
    "jupyter": {
     "source_hidden": true
    }
   },
   "source": [
    "**Reaction 2**\n",
    "\n",
    "Forstår ikke hvor du får den her fra?"
   ]
  },
  {
   "cell_type": "code",
   "execution_count": null,
   "metadata": {
    "jupyter": {
     "source_hidden": true
    }
   },
   "outputs": [],
   "source": [
    "Step_2_mva = Reaction('Step_1_mva')  #(S)-3-Hydroxy-3-methylglutaryl-CoA <=> Acetyl-CoA + Acetoacetate\n",
    "met_3_mva=Metabolite(id='Acetoacetate_c', compartment='c')\n",
    "met_4_mva=Metabolite(id='3Hydroxy-3-methylglutaryl-CoA_c', compartment='c')\n",
    "Step_2_mva.add_metabolites({met_1_mva:-1,\n",
    "                            met_3_mva:-1,\n",
    "                              met_4_mva: 1\n",
    "                             })"
   ]
  },
  {
   "cell_type": "markdown",
   "metadata": {},
   "source": [
    "**Reaction 2**"
   ]
  },
  {
   "cell_type": "code",
   "execution_count": 3,
   "metadata": {},
   "outputs": [
    {
     "ename": "SyntaxError",
     "evalue": "invalid syntax (<ipython-input-3-59ad0358dad5>, line 6)",
     "output_type": "error",
     "traceback": [
      "\u001b[0;36m  File \u001b[0;32m\"<ipython-input-3-59ad0358dad5>\"\u001b[0;36m, line \u001b[0;32m6\u001b[0m\n\u001b[0;31m    model??.metabolites.h2o_c: -1,\u001b[0m\n\u001b[0m         ^\u001b[0m\n\u001b[0;31mSyntaxError\u001b[0m\u001b[0;31m:\u001b[0m invalid syntax\n"
     ]
    }
   ],
   "source": [
    "Step_2_mva = Reaction('Step_2_mva')  # (S)-3-Hydroxy-3-methylglutaryl-CoA + CoA <=> Acetyl-CoA + H2O + Acetoacetyl-CoA\n",
    "acetoacetate = Metabolite(id='Acetoacetate_c', compartment='c')\n",
    "hyd_3_met_coa = Metabolite(id='3Hydroxy-3-methylglutaryl-CoA_c', compartment='c')\n",
    "Step_2_mva.add_metabolites({acetyl_coa: -1,\n",
    "                            acetoacetyl_coa: -1,\n",
    "                            model??.metabolites.h2o_c: -1,\n",
    "                            hyd_3_met_coa: 1,\n",
    "                            model??.metabolites.coa_c: 1\n",
    "                           })"
   ]
  },
  {
   "cell_type": "markdown",
   "metadata": {},
   "source": [
    "**Reaction 3**\n",
    "\n",
    "Er måske tilstede i modellen i forvejen"
   ]
  },
  {
   "cell_type": "code",
   "execution_count": 4,
   "metadata": {},
   "outputs": [
    {
     "ename": "SyntaxError",
     "evalue": "invalid syntax (<ipython-input-4-fe5043d12c13>, line 5)",
     "output_type": "error",
     "traceback": [
      "\u001b[0;36m  File \u001b[0;32m\"<ipython-input-4-fe5043d12c13>\"\u001b[0;36m, line \u001b[0;32m5\u001b[0m\n\u001b[0;31m    model??.metabolites.nadh_c: -2,\u001b[0m\n\u001b[0m         ^\u001b[0m\n\u001b[0;31mSyntaxError\u001b[0m\u001b[0;31m:\u001b[0m invalid syntax\n"
     ]
    }
   ],
   "source": [
    "Step_3_mva = Reaction('Step_3_mva')  # (R)-Mevalonate + CoA + 2 NAD+ <=> (S)-3-Hydroxy-3-methylglutaryl-CoA + 2 NADH + 2 H+\n",
    "mevalonate = Metabolite(id='Mevalonate_c', compartment='c')\n",
    "Step_3_mva.add_metabolites({hyd_3_met_coa: -1,\n",
    "                            model??.metabolites.nadh_c: -2,\n",
    "                            model??.metabolites.h_c: -2,\n",
    "                            mevalonate: 1,\n",
    "                            model??.metabolites.coa_c: 1,\n",
    "                            model??.metabolites.nad_c: 2\n",
    "                           })"
   ]
  },
  {
   "cell_type": "markdown",
   "metadata": {},
   "source": [
    "**Reaction 4**"
   ]
  },
  {
   "cell_type": "code",
   "execution_count": 5,
   "metadata": {},
   "outputs": [
    {
     "ename": "SyntaxError",
     "evalue": "invalid syntax (<ipython-input-5-58d491b07145>, line 4)",
     "output_type": "error",
     "traceback": [
      "\u001b[0;36m  File \u001b[0;32m\"<ipython-input-5-58d491b07145>\"\u001b[0;36m, line \u001b[0;32m4\u001b[0m\n\u001b[0;31m    model??.metabolites.atp_c: -1,\u001b[0m\n\u001b[0m         ^\u001b[0m\n\u001b[0;31mSyntaxError\u001b[0m\u001b[0;31m:\u001b[0m invalid syntax\n"
     ]
    }
   ],
   "source": [
    "Step_4_mva = Reaction('Step_4_mva')  # ATP + (R)-Mevalonate <=> ADP + (R)-5-Phosphomevalonate\n",
    "mevalonate_5P = Metabolite(id='Phosphomevalonate_c', compartment='c')\n",
    "Step_4_mva.add_metabolites({mevalonate: -1,\n",
    "                            model??.metabolites.atp_c: -1,\n",
    "                            mevalonate_5P: 1,\n",
    "                            model??.metabolites.adp_c: 1\n",
    "                           })"
   ]
  },
  {
   "cell_type": "markdown",
   "metadata": {},
   "source": [
    "**Reaction 5**"
   ]
  },
  {
   "cell_type": "code",
   "execution_count": 6,
   "metadata": {},
   "outputs": [
    {
     "ename": "SyntaxError",
     "evalue": "invalid syntax (<ipython-input-6-2f0bf8e8ebd1>, line 4)",
     "output_type": "error",
     "traceback": [
      "\u001b[0;36m  File \u001b[0;32m\"<ipython-input-6-2f0bf8e8ebd1>\"\u001b[0;36m, line \u001b[0;32m4\u001b[0m\n\u001b[0;31m    model??.metabolites.atp_c: -1,\u001b[0m\n\u001b[0m         ^\u001b[0m\n\u001b[0;31mSyntaxError\u001b[0m\u001b[0;31m:\u001b[0m invalid syntax\n"
     ]
    }
   ],
   "source": [
    "Step_5_mva = Reaction('Step_5_mva')  # ATP + (R)-5-Phosphomevalonate <=> ADP + (R)-5-Diphosphomevalonate\n",
    "mevalonate_5PP = Metabolite(id='Diphosphomevalonate_c', compartment='c')\n",
    "Step_5_mva.add_metabolites({mevalonate_5P: -1,\n",
    "                            model??.metabolites.atp_c: -1,\n",
    "                            mevalonate_5PP: 1,\n",
    "                            model??.metabolites.adp_c: 1\n",
    "                           })"
   ]
  },
  {
   "cell_type": "markdown",
   "metadata": {},
   "source": [
    "**Reaction 6**\n",
    "\n",
    "Skal metaboliten isopentenyl diphosphate introduceres? Eller er den allerede i modellen?"
   ]
  },
  {
   "cell_type": "code",
   "execution_count": 9,
   "metadata": {},
   "outputs": [
    {
     "ename": "SyntaxError",
     "evalue": "invalid syntax (<ipython-input-9-dd05fc1219df>, line 5)",
     "output_type": "error",
     "traceback": [
      "\u001b[0;36m  File \u001b[0;32m\"<ipython-input-9-dd05fc1219df>\"\u001b[0;36m, line \u001b[0;32m5\u001b[0m\n\u001b[0;31m    model??.metabolites.atp_c: -1,\u001b[0m\n\u001b[0m         ^\u001b[0m\n\u001b[0;31mSyntaxError\u001b[0m\u001b[0;31m:\u001b[0m invalid syntax\n"
     ]
    }
   ],
   "source": [
    "Step_6_mva = Reaction('Step_6_mva')  # ATP + (R)-5-Diphosphomevalonate <=> ADP + Orthophosphate + Isopentenyl diphosphate + CO2\n",
    "isopentenyl_PP = Metabolite(id='Isopentenyl_PP_c', compartment='c')\n",
    "ortophosphate = Metabolite(id='Ortophosphate_c', compartment='c')\n",
    "Step_6_mva.add_metabolites({mevalonate_5PP: -1,\n",
    "                            model??.metabolites.atp_c: -1,\n",
    "                            isopentenyl_PP: 1,\n",
    "                            model??.metabolites.adp_c: 1,\n",
    "                            ortophosphate: 1\n",
    "                            model??.metabolites.co2_c: 1\n",
    "                           })"
   ]
  },
  {
   "cell_type": "markdown",
   "metadata": {},
   "source": [
    "# Beta-Carotene Pathway\n",
    "\n",
    "**Reaction 1** Skal den med? "
   ]
  },
  {
   "cell_type": "code",
   "execution_count": 10,
   "metadata": {
    "jupyter": {
     "source_hidden": true
    }
   },
   "outputs": [
    {
     "ename": "SyntaxError",
     "evalue": "invalid syntax (<ipython-input-10-a7efd988a2e2>, line 3)",
     "output_type": "error",
     "traceback": [
      "\u001b[0;36m  File \u001b[0;32m\"<ipython-input-10-a7efd988a2e2>\"\u001b[0;36m, line \u001b[0;32m3\u001b[0m\n\u001b[0;31m    Step_1_mva.add_metabolites({model??.metabolites.???: -1,\u001b[0m\n\u001b[0m                                     ^\u001b[0m\n\u001b[0;31mSyntaxError\u001b[0m\u001b[0;31m:\u001b[0m invalid syntax\n"
     ]
    }
   ],
   "source": [
    "Step_1_bcaro = Reaction('Step_1_bcaro')  # trans,trans-Farnesyl diphosphate + Isopentenyl diphosphate <=> Diphosphate + Geranylgeranyl diphosphate\n",
    "geranylgeranyl_PP = Metabolite(id='Geranylgeranyl_PP_c', compartment='c')\n",
    "Step_1_mva.add_metabolites({model??.metabolites.???: -1,\n",
    "                            isopentenyl_PP: -1,\n",
    "                            model??.metabolites.???: 1,\n",
    "                            geranylgeranyl_PP: 1\n",
    "                           })"
   ]
  },
  {
   "cell_type": "markdown",
   "metadata": {},
   "source": [
    "**Reaction 2**"
   ]
  },
  {
   "cell_type": "code",
   "execution_count": 11,
   "metadata": {},
   "outputs": [
    {
     "ename": "SyntaxError",
     "evalue": "invalid syntax (<ipython-input-11-890454843224>, line 4)",
     "output_type": "error",
     "traceback": [
      "\u001b[0;36m  File \u001b[0;32m\"<ipython-input-11-890454843224>\"\u001b[0;36m, line \u001b[0;32m4\u001b[0m\n\u001b[0;31m    model??.metabolites.???: 1,\u001b[0m\n\u001b[0m         ^\u001b[0m\n\u001b[0;31mSyntaxError\u001b[0m\u001b[0;31m:\u001b[0m invalid syntax\n"
     ]
    }
   ],
   "source": [
    "Step_2_bcaro = Reaction('Step_2_bcaro')  \n",
    "# 2 Geranylgeranyl diphosphate <=> Diphosphate + Prephytoene diphosphate\n",
    "# Prephytoene diphosphate <=> Diphosphate + 15-cis-Phytoene\n",
    "# => 2 Geranylgeranyl diphosphate <=> 2 Diphosphate + 15-cis-Phytoene\n",
    "\n",
    "phytoene = Metabolite(id='Phytoene_c', compartment='c')\n",
    "Step_2_mva.add_metabolites({geranylgeranyl_PP: -2,\n",
    "                            model??.metabolites.???: 1,\n",
    "                            phytoene: 1\n",
    "                           })"
   ]
  },
  {
   "cell_type": "markdown",
   "metadata": {},
   "source": [
    "**Reaction 3**"
   ]
  },
  {
   "cell_type": "code",
   "execution_count": 12,
   "metadata": {},
   "outputs": [
    {
     "ename": "SyntaxError",
     "evalue": "invalid syntax (<ipython-input-12-ec989d5b6ecf>, line 4)",
     "output_type": "error",
     "traceback": [
      "\u001b[0;36m  File \u001b[0;32m\"<ipython-input-12-ec989d5b6ecf>\"\u001b[0;36m, line \u001b[0;32m4\u001b[0m\n\u001b[0;31m    model??.metabolites.???: 2,\u001b[0m\n\u001b[0m         ^\u001b[0m\n\u001b[0;31mSyntaxError\u001b[0m\u001b[0;31m:\u001b[0m invalid syntax\n"
     ]
    }
   ],
   "source": [
    "Step_3_bcaro = Reaction('Step_3_bcaro')  # 2 Geranylgeranyl diphosphate <=> Diphosphate + Prephytoene diphosphate\n",
    "prephytoene = Metabolite(id='Prephytoene_PP_c', compartment='c')\n",
    "Step_2_mva.add_metabolites({geranylgeranyl_PP: -2,\n",
    "                            model??.metabolites.???: 2,\n",
    "                            prephytoene_PP: 1\n",
    "                           })"
   ]
  },
  {
   "cell_type": "code",
   "execution_count": null,
   "metadata": {},
   "outputs": [],
   "source": []
  }
 ],
 "metadata": {
  "kernelspec": {
   "display_name": "python3.6",
   "language": "python",
   "name": "python3.6"
  },
  "language_info": {
   "codemirror_mode": {
    "name": "ipython",
    "version": 3
   },
   "file_extension": ".py",
   "mimetype": "text/x-python",
   "name": "python",
   "nbconvert_exporter": "python",
   "pygments_lexer": "ipython3",
   "version": "3.6.12"
  }
 },
 "nbformat": 4,
 "nbformat_minor": 4
}
