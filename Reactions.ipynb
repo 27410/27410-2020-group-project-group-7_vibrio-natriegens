{
 "cells": [
  {
   "cell_type": "code",
   "execution_count": 1,
   "metadata": {},
   "outputs": [],
   "source": [
    "from cobra import Reaction, Metabolite"
   ]
  },
  {
   "cell_type": "markdown",
   "metadata": {},
   "source": [
    "**Reaction 1**"
   ]
  },
  {
   "cell_type": "code",
   "execution_count": null,
   "metadata": {},
   "outputs": [],
   "source": [
    "Step_1_mva = Reaction('Step_1_mva')  # Acetyl-CoA <=> CoA + Acetoacetyl-CoA\n",
    "met_1_mva=Metabolite(id='Acetyl_Coa_c', compartment='c')\n",
    "met_2_mva=Metabolite(id='Acetoacetyl_Coa_c', compartment='c')\n",
    "Step_1_mva.add_metabolites({met_1_mva:-1,\n",
    "                              met_2_mva: 1\n",
    "                             })"
   ]
  },
  {
   "cell_type": "markdown",
   "metadata": {},
   "source": [
    "**Reaction 2**"
   ]
  },
  {
   "cell_type": "code",
   "execution_count": null,
   "metadata": {},
   "outputs": [],
   "source": [
    "Step_2_mva = Reaction('Step_1_mva')  #(S)-3-Hydroxy-3-methylglutaryl-CoA <=> Acetyl-CoA + Acetoacetate\n",
    "met_3_mva=Metabolite(id='Acetoacetate_c', compartment='c')\n",
    "met_4_mva=Metabolite(id='3Hydroxy-3-methylglutaryl-CoA_c', compartment='c')\n",
    "Step_2_mva.add_metabolites({met_1_mva:-1,\n",
    "                            met_3_mva:-1,\n",
    "                              met_4_mva: 1\n",
    "                             })"
   ]
  },
  {
   "cell_type": "markdown",
   "metadata": {},
   "source": [
    "**Reaction 3**"
   ]
  },
  {
   "cell_type": "code",
   "execution_count": null,
   "metadata": {},
   "outputs": [],
   "source": [
    "Step_3_mva = Reaction('Step_1_mva')  # (S)-3-Hydroxy-3-methylglutaryl-CoA + CoA <=> Acetyl-CoA + H2O + Acetoacetyl-CoA\n",
    "met_5_mva=Metabolite(id='Acetoacetate_c', compartment='c')\n",
    "met_6_mva=Metabolite(id='3Hydroxy-3-methylglutaryl-CoA_c', compartment='c')\n",
    "Step_2_mva.add_metabolites({met_1_mva:-1,\n",
    "                            met_3_mva:-1,\n",
    "                              met_4_mva: 1\n",
    "                             })"
   ]
  }
 ],
 "metadata": {
  "kernelspec": {
   "display_name": "python3.6",
   "language": "python",
   "name": "python3.6"
  },
  "language_info": {
   "codemirror_mode": {
    "name": "ipython",
    "version": 3
   },
   "file_extension": ".py",
   "mimetype": "text/x-python",
   "name": "python",
   "nbconvert_exporter": "python",
   "pygments_lexer": "ipython3",
   "version": "3.6.12"
  }
 },
 "nbformat": 4,
 "nbformat_minor": 4
}
