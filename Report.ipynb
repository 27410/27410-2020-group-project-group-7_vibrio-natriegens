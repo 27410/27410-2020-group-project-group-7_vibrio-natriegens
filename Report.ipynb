{
 "cells": [
  {
   "cell_type": "markdown",
   "metadata": {},
   "source": [
    "# Construction of GSM for *Vibrio natriegens* and production of beta-carotene"
   ]
  },
  {
   "cell_type": "markdown",
   "metadata": {},
   "source": [
    "## 1. Introduction"
   ]
  },
  {
   "cell_type": "markdown",
   "metadata": {},
   "source": [
    "### 1.1 Literature review of the cell factory (*V. natriegens*)"
   ]
  },
  {
   "cell_type": "markdown",
   "metadata": {},
   "source": [
    "The fast-growing marine *Vibrio natriegens* is an emerging synthetic biology chassis and a promising candidate for an industrial cell factory. The bacterium possesses many desirable qualities for a cell factory making it interesting for industrial application. This includes a high growth and substrate uptake rate, metabolic diversity, genetic tractability, and tolerance against high salinity (Hoff et al. 2020). These properties could remarkably decrease production expenses and thus increase profits. *V. natriegens* belongs to the class of gammaproteobacteria, just like *E.coli*, and provides a very promising alternative to this commonly used industrial workhorse. \n",
    "\n",
    "The high growth rate of *V. natriegens* makes it highly interesting as a commercial cell factory. *V. natriegens* is reported to have the highest growth rate hitherto observed in a non-pathogenetic organism and has a generation time of less than 10 minutes (Hoffart et al. 2017). In comparison, the growth rate for *E. coli* is usually 15-20 minutes. This trait could prove very timesaving and speed up the Design, Build, Test, and Learn (DBTL) cycle for the cell factory development (Eichmann et al. 2019).\n",
    "\n",
    "The metabolic diversity and requirement of high salinity of *V. natriegens* offers a remarkable potential to decrease the production costs. In industrial fermentation, the cost of water is a significant expense. *V. natriegens* is ubiquitous in the marine environment and thus thrive in high salinity. This means that seawater can be used in the fermentation process for *V. natriegens* and thus significantly reducing the expense of water. Furthermore, the marine bacterium has a high metabolic diversity and can utilize a wide range of substrates including cheap substrates such as sucrose and glycerol (Hoffart et al. 2017; Ellis et al. 2019). Using *V. natriegens* as a cell factory could thus prove very economically favorable.\n",
    "\n",
    "There are currently several established molecular biology techniques for *V. natriegens* including electroporation, conjugation, and CRIPSPR-Cas9 (Hoff et al. 2020). Recent studies have revealed that many methods and tools for production in *E. coli* can be applied in *V. natriegens* (Tschirhart et al. 2019; Eichmann et al. 2019). The codon usage in the two organisms are fairly similar (Hoff et al. 2020). A recent study investigated how well genetic components commonly used for *E. coli* work in *V. natriegens* (Tschirhart et al. 2019). This revealed that many of the synthetic biology tools can also be applied in the fast-growing vibrio. It has been suggested that *E. coli* tools and protocols could be a good starting point for developing more tools for *V. natriegens* (Hoff et al. 2020). This signifies that tools and methods for *V. natriegens* can hopefully be expeditiously developed for the optimization of *V. natriegens* as a cell factory.\n"
   ]
  },
  {
   "cell_type": "markdown",
   "metadata": {},
   "source": [
    "### 1.2 Literature review of the compound (beta-carotene)"
   ]
  },
  {
   "cell_type": "markdown",
   "metadata": {},
   "source": [
    "The natural product beta carotene is terpenoid that are naturally produced in fungi, plant and fruits. It is a colored red-orange pigment by which is it often used for food coloring in the food and beverage industry. It is also used for natural cosmetic products and besides being a pigment, it is also the most common source for provitamin A. The production of vitamin A is of interesting because vitamin A has multiple functions in the body, such as vision and the immune system. To express beta carotene in Vibrio natriegens, the beta carotene pathway from Vibrio campbellii and the mevalonate (MVA) biosynthetic pathway from the Gram-positive bacterium Lactobacillus acidophilus were introduced to get the right precursors. \n",
    "Vibrio natriegens already produce the important precursors Isopentenyl pyrophosphate (IPP) and dimethylallyl pyrophosphate (DMAPP) through its upstream methylerythritol 4-phosphate (MEP) pathway, but this product seems to be a bottleneck in the production of beta carotene. To solve this issue, the MVA pathway from Lactobacillus acidophilus is introduced and thereby more IPP is produced. IPP is then used in the beta carotene pathway from Vibrio campbellii to reach the final product. Beta carotene have already been experimentally heterologously expressed in V. natriegens and other microbial chassis with great success. By making a computed V. natriegens cell factory the goal is to increase the production rate of beta carotene by model optimizing. (Kilde: https://www.ncbi.nlm.nih.gov/pmc/articles/PMC6950413/)\n",
    "The pathways can be seen in figure… \n",
    "\n",
    "The market value of beta carotene has increased with the raised awareness of its properties and its health benefits. During the past years there have been an increased demand from the consumers for natural and organic products, which is why many companies have started using beta carotene as ingredients in their products. The global market size of beta carotene was 314.14 billion US dollars in 2020 and the market size is estimated to grow to 380.37 billion US dollars before 2025. In Europe the most preferred dye in food processing is beta carotene and are also sneaking in to the American market as the most preferred dye. Further the Asian market are big contributors to the global beta carotene market, due to the increased use of cosmetics. At the moment the beta carotene industry is dominated by the two companies DSM N.V. and BASF SE. but they are followed by the Danish company Chr. Hansen. The increasing market value as a result of the raising demand seems to keep growing during the next many years. This makes the production of beta carotene interesting and finding a new better production organism can therefore be essential for future beta carotene production. (Kilde: https://www.marketdataforecast.com/market-reports/beta-carotene-market)\n",
    "\n",
    "\n",
    "\n",
    "\n",
    "\n",
    "\n",
    "\n",
    "\n",
    "\n"
   ]
  },
  {
   "cell_type": "markdown",
   "metadata": {},
   "source": [
    "## 2. Problem definition (<300 words)"
   ]
  },
  {
   "cell_type": "markdown",
   "metadata": {},
   "source": [
    "The market for beta-carotene will increase the coming years and therefore a more efficient way of producing the compound can be necessary. By introducing the heterologous pathway for beta-carotene production into the bacterium *V. natriegens* one would have an efficient and fast-growing organism as a cell factory for beta-carotene production.\n",
    "\n",
    "Today beta-carotene is mainly produced chemically which can be damaging to the environment. It would therefore have an effect on the climate change mitigation to change a larger part of the chemical produced beta-carotene to bioproduced beta-carotene. One of the reasons it is interesting to introduce the beta-carotene pathway into *V. natriegens* instead of using for example *Yarrowia lipolytica* is that *V. natriegens* has shown good results being cultivated in sea water. This will reduce the use of drinking water significantly and as clean drinking water is a limiting resource it can help the UN with sustainable development goal 6.\n"
   ]
  },
  {
   "cell_type": "markdown",
   "metadata": {},
   "source": [
    "## 3. Reconstruction of a new GSM for your cell factory host of interest (<1500 words)"
   ]
  },
  {
   "cell_type": "code",
   "execution_count": 8,
   "metadata": {},
   "outputs": [],
   "source": [
    "from cobra.io import read_sbml_model"
   ]
  },
  {
   "cell_type": "code",
   "execution_count": null,
   "metadata": {},
   "outputs": [],
   "source": []
  },
  {
   "cell_type": "code",
   "execution_count": null,
   "metadata": {},
   "outputs": [
    {
     "name": "stdout",
     "output_type": "stream",
     "text": [
      "Running diamond for the first time, please wait while we build the internal database...\n",
      "diamond v0.9.14.115 | by Benjamin Buchfink <buchfink@gmail.com>\n",
      "Licensed under the GNU AGPL <https://www.gnu.org/licenses/agpl.txt>\n",
      "Check http://github.com/bbuchfink/diamond for updates.\n",
      "\n",
      "#CPU threads: 32\n",
      "Scoring parameters: (Matrix=BLOSUM62 Lambda=0.267 K=0.041 Penalties=11/1)\n",
      "Database file: /usr/local/lib/python3.6/dist-packages/carveme/data/input/bigg_proteins.faa\n",
      "Opening the database file... Permission denied\n",
      " [0.003801s]\n",
      "Error: Error opening file /usr/local/lib/python3.6/dist-packages/carveme/data/generated/bigg_proteins.dmnd\n",
      "Failed to run diamond (wrong arguments).\n",
      "File exists, skipping.\n"
     ]
    }
   ],
   "source": [
    "!carve --refseq GCF_001680045.1 --output Vibrio-natriegens-CCUG16371-LB.xml --gapfill LB --init LB"
   ]
  },
  {
   "cell_type": "code",
   "execution_count": 3,
   "metadata": {},
   "outputs": [
    {
     "name": "stdout",
     "output_type": "stream",
     "text": [
      "Running diamond for the first time, please wait while we build the internal database...\n",
      "diamond v2.0.4.142 (C) Max Planck Society for the Advancement of Science\n",
      "Documentation, support and updates available at http://www.diamondsearch.org\n",
      "\n",
      "#CPU threads: 32\n",
      "Scoring parameters: (Matrix=BLOSUM62 Lambda=0.267 K=0.041 Penalties=11/1)\n",
      "Database input file: /usr/local/lib/python3.6/dist-packages/carveme/data/input/bigg_proteins.faa\n",
      "Opening the database file... Permission denied\n",
      " [0s]\n",
      "Error: Error opening file /usr/local/lib/python3.6/dist-packages/carveme/data/generated/bigg_proteins.dmnd\n",
      "Failed to run diamond (wrong arguments).\n",
      "File exists, skipping.\n",
      "diamond v2.0.4.142 (C) Max Planck Society for the Advancement of Science\n",
      "Documentation, support and updates available at http://www.diamondsearch.org\n",
      "\n",
      "#CPU threads: 32\n",
      "Scoring parameters: (Matrix=BLOSUM62 Lambda=0.267 K=0.041 Penalties=11/1)\n",
      "Temporary directory: \n",
      "Opening the database... No such file or directory\n",
      " [0s]\n",
      "Error: Error opening file /usr/local/lib/python3.6/dist-packages/carveme/data/generated/bigg_proteins.dmnd\n",
      "Failed to run diamond.\n"
     ]
    }
   ],
   "source": [
    "!carve --refseq GCF_001680045.1 --output Vibrio-natriegens-CCUG16371-LB-M9.xml --gapfill M9 --init M9\n"
   ]
  },
  {
   "cell_type": "code",
   "execution_count": 4,
   "metadata": {},
   "outputs": [],
   "source": [
    "modelLB = read_sbml_model('Vibrio-natriegens-CCUG16371-LB.xml')\n",
    "modelM9 = read_sbml_model('Vibrio-natriegens-CCUG16371-M9.xml')"
   ]
  },
  {
   "cell_type": "raw",
   "metadata": {},
   "source": [
    "Now, just for some basic information about the model of Vibrio natriegens created from carveme:"
   ]
  },
  {
   "cell_type": "code",
   "execution_count": 5,
   "metadata": {},
   "outputs": [
    {
     "name": "stdout",
     "output_type": "stream",
     "text": [
      "Number of reactions: 2596\n",
      "Number of metabolites: 1671\n",
      "Number of genes included in the model: 1372\n",
      "% of genes in model compared to the number of coding genes in Vibrio natrigens(4451 genes): 30.824533812626377\n"
     ]
    }
   ],
   "source": [
    "print(\"Number of reactions:\", len(modelLB.reactions))\n",
    "print(\"Number of metabolites:\", len(modelLB.metabolites))\n",
    "print(\"Number of genes included in the model:\", len(modelLB.genes))\n",
    "print(\"% of genes in model compared to the number of coding genes in Vibrio natrigens(4451 genes):\",(len(modelLB.genes)/4451)*100)\n"
   ]
  },
  {
   "cell_type": "raw",
   "metadata": {},
   "source": [
    "Comparing the two models´ growth rate with the actually growth rate of V. natriegens experimentially determined in minimal- and complex media:"
   ]
  },
  {
   "cell_type": "code",
   "execution_count": 245,
   "metadata": {},
   "outputs": [
    {
     "name": "stdout",
     "output_type": "stream",
     "text": [
      "Maximal growth rate of Vibrio natriegens in LB medium: 4.493034109031009\n",
      "Maximal growth rate of Vibrio natriegens in M9 medium 0.7428597095114109\n"
     ]
    }
   ],
   "source": [
    "print(\"Maximal growth rate of Vibrio natriegens in LB medium:\", modelLB.optimize().objective_value)\n",
    "print(\"Maximal growth rate of Vibrio natriegens in M9 medium\", modelM9.optimize().objective_value)"
   ]
  },
  {
   "cell_type": "raw",
   "metadata": {},
   "source": [
    "Long et al. found (http://production.datastore.cvt.dk/filestore?oid=5a16e6c15010df320456bcb7&targetid=5a16e6c15010df320456bcbb) the specific growth rate of V. natrigens grown as a batch culture in minimal media(M9 media) to be 1.70 1/h (a doubling time of app. 24 min)"
   ]
  },
  {
   "cell_type": "raw",
   "metadata": {},
   "source": [
    "Long et al. further found, using carbon-13 flux analysis, that V. natriegens had an glucose rate uptake of 21.4 mmol/g_DW/h "
   ]
  },
  {
   "cell_type": "code",
   "execution_count": 239,
   "metadata": {},
   "outputs": [
    {
     "data": {
      "text/plain": [
       "-10.0"
      ]
     },
     "execution_count": 239,
     "metadata": {},
     "output_type": "execute_result"
    }
   ],
   "source": [
    "solution = modelM9.optimize()\n",
    "solution.fluxes.EX_glc__D_e"
   ]
  },
  {
   "cell_type": "code",
   "execution_count": null,
   "metadata": {},
   "outputs": [],
   "source": []
  },
  {
   "cell_type": "raw",
   "metadata": {},
   "source": [
    "A change in the uptake rate of glucose has to be made:"
   ]
  },
  {
   "cell_type": "code",
   "execution_count": 240,
   "metadata": {},
   "outputs": [],
   "source": [
    "modelc = modelM9.copy()"
   ]
  },
  {
   "cell_type": "code",
   "execution_count": 251,
   "metadata": {},
   "outputs": [
    {
     "data": {
      "text/plain": [
       "0.9222026623715291"
      ]
     },
     "execution_count": 251,
     "metadata": {},
     "output_type": "execute_result"
    }
   ],
   "source": [
    "modelc.reactions.EX_glc__D_e.bounds = -21.4,-21.4\n",
    "(modelc.optimize().objective_value)"
   ]
  },
  {
   "cell_type": "code",
   "execution_count": 250,
   "metadata": {},
   "outputs": [
    {
     "name": "stdout",
     "output_type": "stream",
     "text": [
      "<Solution 0.922 at 0x7feec343f470>\n",
      "-1000.0\n"
     ]
    }
   ],
   "source": [
    "with modelc:\n",
    "    modelc.reactions.EX_glc__D_e.bounds = -1000,-1000\n",
    "    print(modelc.optimize())\n",
    "    solution2 = modelc.optimize()\n",
    "    print(solution2.fluxes.EX_glc__D_e)\n",
    "    \n"
   ]
  },
  {
   "cell_type": "raw",
   "metadata": {},
   "source": [
    "**it does not seem to affect the specifc growth more by chaning the flux of glucose uptake to higher values...**"
   ]
  },
  {
   "cell_type": "raw",
   "metadata": {},
   "source": [
    "So the specific growth rate has been improved to be 0.922 1/h\n",
    "But it does still not correspond to the actual data found by Long et al.\n",
    "For further optimization of the specific growth rate of this projects model the uptake rate of oxygen be changed;\n",
    "Long et. al. found that V. natriegens had an oxygen uptake rate of 28 mmol/g/h.\n",
    "This project's model on minimal M9 media of V. natriegens has a oxygen uptake rate of 10 mmol/g/h:"
   ]
  },
  {
   "cell_type": "code",
   "execution_count": 60,
   "metadata": {},
   "outputs": [
    {
     "data": {
      "text/plain": [
       "-10.0"
      ]
     },
     "execution_count": 60,
     "metadata": {},
     "output_type": "execute_result"
    }
   ],
   "source": [
    "solution.fluxes.EX_o2_e"
   ]
  },
  {
   "cell_type": "raw",
   "metadata": {},
   "source": []
  },
  {
   "cell_type": "code",
   "execution_count": 84,
   "metadata": {},
   "outputs": [
    {
     "data": {
      "text/plain": [
       "0.9222026623715582"
      ]
     },
     "execution_count": 84,
     "metadata": {},
     "output_type": "execute_result"
    }
   ],
   "source": [
    "modelc.reactions.EX_o2_e.bounds = -28.4, -28.4\n",
    "modelc.optimize().objective_value"
   ]
  },
  {
   "cell_type": "raw",
   "metadata": {},
   "source": [
    "no change in the specific growth rate is seen when changing the bounds of oxygen uptake"
   ]
  },
  {
   "cell_type": "raw",
   "metadata": {},
   "source": [
    "Other observations made by Long et. al. 13-C metabolic flux analysis was:\n",
    "high glycolytic flux  for:\n",
    "80 ± 0.5 for phosphoglucose isomerase,\n",
    "169 ± 1 for glyceraldehyde 3-phosphate dehydrogenase,\n",
    "a flux of 27 ± 1  via phosphoenolpyruvate carboxylase,\n",
    "17 ± 1 for citrate synthase,\n",
    "7 ± 0.4 for α-ketoglutarate dehydrogenase\n",
    "\n",
    "Above fluxes have been normalized to\n",
    "glucose uptake rate of 100(21.4 mmol/g/h)"
   ]
  },
  {
   "cell_type": "raw",
   "metadata": {},
   "source": [
    "modelc.reactions.PGI = phosphoglucose isomerase = app. 0.8*21.4 mmol/g/h\n",
    "modelc.reactions.GAPD = glyceraldehyde 3-phosphate dehydrogenase = app. 1.69*21.4 mmol/g/h\n",
    "modelc.reactions.PPC = Phosphoenolpyruvate carboxylase = app. 0.27*21.4 mmol/g/h\n",
    "modelc.reactions.MCITS = methylated citrate synthase = app. 0.17*21.4 mmol/g/h\n",
    "model.reactions.AKGDH = α-ketoglutarate dehydrogenase = app. 0.07*21.4 mmol/g/h"
   ]
  },
  {
   "cell_type": "code",
   "execution_count": 147,
   "metadata": {},
   "outputs": [],
   "source": [
    "modelc.reactions.PGI.bounds = -0.8*21.4,0.8*21.4\n",
    "modelc.reactions.GAPD.bounds = -1.69*21.4,1.69*21.4\n",
    "modelc.reactions.PPC.bounds = -0.17*21.4,0.17*21.4\n",
    "modelc.reactions.AKGDH.bounds =-0.07*21.4,0.07*21.4"
   ]
  },
  {
   "cell_type": "code",
   "execution_count": 148,
   "metadata": {},
   "outputs": [
    {
     "name": "stdout",
     "output_type": "stream",
     "text": [
      "0.9222026623715314\n"
     ]
    }
   ],
   "source": [
    "print(modelc.optimize().objective_value)"
   ]
  },
  {
   "cell_type": "raw",
   "metadata": {},
   "source": [
    "By changing the above fluxes to resemble reality did not affect the specific growth rate.\n",
    "Only the change of glucose uptake rate has affected the specific growth rate in this model grown on M9"
   ]
  },
  {
   "cell_type": "raw",
   "metadata": {},
   "source": [
    "Additionally, Long et al has found that some pathways are inactive during aerobic growth with glucose as carbon source:\n",
    "The EntnerDoudoroff pathway (0.6 ± 0.1), the glyoxylate shunt (0.0 ± 0.1), and\n",
    "gluconeogenesis via phosphoenolpyruvate carboxykinase (0.0 ± 0.3) were all characterised as inactive:"
   ]
  },
  {
   "cell_type": "raw",
   "metadata": {},
   "source": [
    "The EntnerDoudoroff pathway is an alterntive route in prokaryotes to catabolize glucose to pyruvate; the pathway results in a net yield of 1 ATP, 1 NADH, and 1 NADPH. As opposed the glycolysis has a net yield of 2 ATP and 2 NADH. \n",
    "Hence, it could be hypothesized that by inactivating The EntnerDoudoroff pathway a higher flow through the glycolysis would occur resulting in a higher specific growth rate perhaps. \n",
    "6-phosphogluconate dehydratase and 2-keto-3-deoxyphosphogluconate aldolase are two of the key enzymes in the EntnerDoudoroff pathway(Conway et al. 1982) and are therefor deactivated:"
   ]
  },
  {
   "cell_type": "code",
   "execution_count": 206,
   "metadata": {},
   "outputs": [],
   "source": [
    "modelc.reactions.EDA.bounds = 0,0 #deactivation of 2-keto-3-deoxyphosphogluconate aldolase also known as \n",
    "#2-dehydro-3-deoxy-phosphogluconate aldolase in KEGG"
   ]
  },
  {
   "cell_type": "code",
   "execution_count": 207,
   "metadata": {},
   "outputs": [
    {
     "data": {
      "text/plain": [
       "[<Reaction EDA at 0x7feeb8d5b780>, <Reaction EDD at 0x7feeb8d5b7b8>]"
      ]
     },
     "execution_count": 207,
     "metadata": {},
     "output_type": "execute_result"
    }
   ],
   "source": [
    "modelc.reactions.query('phosphogluconate','name')"
   ]
  },
  {
   "cell_type": "code",
   "execution_count": 209,
   "metadata": {},
   "outputs": [],
   "source": [
    "modelc.reactions.EDD.bounds = 0,0  #deactivation of 6-phosphogluconate dehydratase"
   ]
  },
  {
   "cell_type": "code",
   "execution_count": 216,
   "metadata": {},
   "outputs": [
    {
     "name": "stdout",
     "output_type": "stream",
     "text": [
      "0.9222026623715566\n"
     ]
    }
   ],
   "source": [
    "print(modelc.optimize().objective_value)"
   ]
  },
  {
   "cell_type": "raw",
   "metadata": {},
   "source": [
    "The specific growth rate only increase by -2.5202063e-14...\n",
    "now the other two pathways are deactivated(the glyoxylate shunt, and\n",
    "gluconeogenesis via phosphoenolpyruvate carboxykinase)"
   ]
  },
  {
   "cell_type": "code",
   "execution_count": 228,
   "metadata": {},
   "outputs": [],
   "source": [
    "modelc.reactions.PPCK.bounds = 0,0 #deactivaring phosphoenolpyruvate carboxykinase\n",
    "modelc.reactions.ICL.bounds = 0,0 #deactivating the glyoxylate shunt"
   ]
  },
  {
   "cell_type": "code",
   "execution_count": 230,
   "metadata": {},
   "outputs": [
    {
     "data": {
      "text/plain": [
       "0.9222026623715566"
      ]
     },
     "execution_count": 230,
     "metadata": {},
     "output_type": "execute_result"
    }
   ],
   "source": [
    "modelc.optimize().objective_value"
   ]
  },
  {
   "cell_type": "raw",
   "metadata": {},
   "source": [
    "Visualizing the core metabolism of V. natriegens using an existing map of E. coli"
   ]
  },
  {
   "cell_type": "code",
   "execution_count": 1,
   "metadata": {},
   "outputs": [],
   "source": [
    "import escher"
   ]
  },
  {
   "cell_type": "code",
   "execution_count": 2,
   "metadata": {},
   "outputs": [
    {
     "ename": "NameError",
     "evalue": "name 'modelc' is not defined",
     "output_type": "error",
     "traceback": [
      "\u001b[0;31m---------------------------------------------------------------------------\u001b[0m",
      "\u001b[0;31mNameError\u001b[0m                                 Traceback (most recent call last)",
      "\u001b[0;32m<ipython-input-2-b4c52ade0bb2>\u001b[0m in \u001b[0;36m<module>\u001b[0;34m\u001b[0m\n\u001b[0;32m----> 1\u001b[0;31m \u001b[0msolution\u001b[0m \u001b[0;34m=\u001b[0m \u001b[0mmodelc\u001b[0m\u001b[0;34m.\u001b[0m\u001b[0moptimize\u001b[0m\u001b[0;34m(\u001b[0m\u001b[0;34m)\u001b[0m\u001b[0;34m\u001b[0m\u001b[0;34m\u001b[0m\u001b[0m\n\u001b[0m",
      "\u001b[0;31mNameError\u001b[0m: name 'modelc' is not defined"
     ]
    }
   ],
   "source": [
    "solution = modelc.optimize()"
   ]
  },
  {
   "cell_type": "code",
   "execution_count": null,
   "metadata": {},
   "outputs": [],
   "source": [
    "escher.Builder('e_coli_core.Core metabolism',\n",
    "               reaction_data=solution.fluxes.to_dict()).display_in_notebook()"
   ]
  },
  {
   "cell_type": "code",
   "execution_count": null,
   "metadata": {},
   "outputs": [],
   "source": []
  },
  {
   "cell_type": "code",
   "execution_count": null,
   "metadata": {},
   "outputs": [],
   "source": []
  },
  {
   "cell_type": "raw",
   "metadata": {},
   "source": [
    "## 4. Computer-Aided Cell Factory Engineering (<500 words)"
   ]
  },
  {
   "cell_type": "code",
   "execution_count": null,
   "metadata": {},
   "outputs": [],
   "source": []
  },
  {
   "cell_type": "markdown",
   "metadata": {},
   "source": [
    "## 5. Discussion (<500 words)"
   ]
  },
  {
   "cell_type": "markdown",
   "metadata": {},
   "source": [
    "## 6. Conclusion (<200 words)"
   ]
  },
  {
   "cell_type": "code",
   "execution_count": null,
   "metadata": {},
   "outputs": [],
   "source": []
  },
  {
   "cell_type": "markdown",
   "metadata": {},
   "source": [
    "## References"
   ]
  },
  {
   "cell_type": "markdown",
   "metadata": {},
   "source": [
    "Eichmann J, Oberpaul M, Weidner T, Gerlach D, Czermak P (2019) Selection of High Producers From Combinatorial Libraries for the Production of Recombinant Proteins in Escherichia coli and Vibrio natriegens. Front Bioeng Biotechnol 7: \n",
    "\n",
    "Hoff J, Daniel B, Stukenberg D, Thuronyi BW, Waldminghaus T, Fritz G (2020) Vibrio natriegens : an ultrafast‐growing marine bacterium as emerging synthetic biology chassis. Environ Microbiol 22:4394–4408 \n",
    "\n",
    "Hoffart E, Grenz S, Lange J, Nitschel R, Müller F, Schwentner A, Feith A, Lenfers-Lücker M, Takors R, Blombach B (2017) High substrate uptake rates empower Vibrio natriegens as production host for industrial biotechnology. Appl Environ Microbiol 83: \n",
    "\n",
    "Tschirhart T, Shukla V, Kelly EE, Schultzhaus Z, Newringeisen E, Erickson JS, Wang Z, Garcia W, Curl E, Egbert RG, Yeung E, Vora GJ (2019) Synthetic Biology Tools for the Fast-Growing Marine Bacterium Vibrio natriegens. ACS Synth Biol 8:2069–2079\n",
    "\n",
    "Conway,T. (1992) \"The Entner-Doudorodd pathway: history, physiology and molecular biology\" Microbiology of Reviews 103(19; May), pp. 1-28, DOI\n"
   ]
  }
 ],
 "metadata": {
  "kernelspec": {
   "display_name": "python3.6",
   "language": "python",
   "name": "python3.6"
  },
  "language_info": {
   "codemirror_mode": {
    "name": "ipython",
    "version": 3
   },
   "file_extension": ".py",
   "mimetype": "text/x-python",
   "name": "python",
   "nbconvert_exporter": "python",
   "pygments_lexer": "ipython3",
   "version": "3.6.12"
  }
 },
 "nbformat": 4,
 "nbformat_minor": 4
}
