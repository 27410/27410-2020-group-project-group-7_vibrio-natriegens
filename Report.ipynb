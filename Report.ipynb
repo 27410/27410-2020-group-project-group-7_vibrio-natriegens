{
 "cells": [
  {
   "cell_type": "markdown",
   "metadata": {},
   "source": [
    "# [Title]"
   ]
  },
  {
   "cell_type": "markdown",
   "metadata": {},
   "source": [
    "## 1. Introduction"
   ]
  },
  {
   "cell_type": "markdown",
   "metadata": {},
   "source": [
    "### 1.1 Literature review of the cell factory (*V. natriegens*)"
   ]
  },
  {
   "cell_type": "markdown",
   "metadata": {},
   "source": [
    "The fast-growing marine Vibrio natriegens is an emerging synthetic biology chassis and a promising candidate for an industrial cell factory. The bacterium possesses many desirable qualities for a cell factory making it interesting for industrial application. This includes a high growth and substrate uptake rate, metabolic diversity, genetic tractability, and tolerance against high salinity (Hoff et al. 2020). *V. natriegens* belongs to the Gram-negative class of Gamma-proteobacteria and provides a promising alternative to the commonly used industrial workhorse, *E. coli*. \n",
    "\n",
    "*V. natriegens* is ubiquitous in the marine natural environment and thus thrive in high salinity. In industrial fermentation, the cost of water is a significant expense. However, seawater can be used in the fermentation process for *V. natriegens* and thus significantly reduce the expense of water. Furthermore, the marine bacterium has a high metabolic diversity and can utilize a wide range of substrates including cheap substrates such as sucrose and glycerol (Hoffart et al. 2017; Ellis et al. 2019).\n",
    "\n",
    "There are currently several established molecular biology techniques for *V. natriegens* including electroporation, conjugation, and CRIPSPR-Cas9 (Hoff et al. 2020). Recent studies have revealed that many methods and tools for production in *E. coli* can be applied in *V. natriegens* (Tschirhart et al. 2019; Eichmann et al. 2019). The codon usage in the two organisms are fairly similar (Hoff et al. 2020). A recent study investigated how well genetic components commonly used for *E. coli* work in *V. natriegens* (Tschirhart et al. 2019). This revealed that many of the synthetic biology tools can also be applied in the fast-growing vibrio. \n",
    "\n",
    "It has been suggested that *E. coli* tools and protocols could be a good starting point for developing more tools for *V. natriegens* (Hoff et al. 2020). This signifies that tools and methods for *V. natriegens* can hopefully be expeditiously developed for the optimization of *V. natriegens* as a cell factory.\n",
    "\n",
    "The high growth rate of *V. natriegens* makes it highly interesting as a commercial cell factory. *V. natriegens* is reported to have the highest growth rate hitherto observed in a non-pathogenetic organism and has a generation time of less than 10 minutes (Hoffart et al. 2017). In comparison, the growth rate for *E. coli* is usually 15-20 minutes. This trait could prove very timesaving and speed up the Design, Build, Test, and Learn (DBTL) cycle for the cell factory development (Eichmann et al. 2019). \n"
   ]
  },
  {
   "cell_type": "markdown",
   "metadata": {},
   "source": [
    "### 1.2 Literature review of the compound (<500 words)"
   ]
  },
  {
   "cell_type": "markdown",
   "metadata": {},
   "source": [
    "The natural product beta carotene is terpenoid that are naturally produced in fungi, plant and fruits. It is a colored red-orange pigment by which is it often used for food coloring in the food and beverage industry. It is also used for natural cosmetic products and besides being a pigment, it is also the most common source for provitamin A. The production of vitamin A is of interesting because vitamin A has multiple functions in the body, such as vision and the immune system. To express beta carotene in Vibrio natriegens, the beta carotene pathway from Vibrio campbellii and the mevalonate (MVA) biosynthetic pathway from the Gram-positive bacterium Lactobacillus acidophilus were introduced to get the right precursors. \n",
    "Vibrio natriegens already produce the important precursors Isopentenyl pyrophosphate (IPP) and dimethylallyl pyrophosphate (DMAPP) through its upstream methylerythritol 4-phosphate (MEP) pathway, but this product seems to be a bottleneck in the production of beta carotene. To solve this issue, the MVA pathway from Lactobacillus acidophilus is introduced and thereby more IPP is produced. IPP is then used in the beta carotene pathway from Vibrio campbellii to reach the final product. Beta carotene have already been experimentally heterologously expressed in V. natriegens and other microbial chassis with great success. By making a computed V. natriegens cell factory the goal is to increase the production rate of beta carotene by model optimizing. (Kilde: https://www.ncbi.nlm.nih.gov/pmc/articles/PMC6950413/)\n",
    "The pathways can be seen in figure… \n",
    "\n",
    "The market value of beta carotene has increased with the raised awareness of its properties and its health benefits. During the past years there have been an increased demand from the consumers for natural and organic products, which is why many companies have started using beta carotene as ingredients in their products. The global market size of beta carotene was 314.14 billion US dollars in 2020 and the market size is estimated to grow to 380.37 billion US dollars before 2025. In Europe the most preferred dye in food processing is beta carotene and are also sneaking in to the American market as the most preferred dye. Further the Asian market are big contributors to the global beta carotene market, due to the increased use of cosmetics. At the moment the beta carotene industry is dominated by the two companies DSM N.V. and BASF SE. but they are followed by the Danish company Chr. Hansen. The increasing market value as a result of the raising demand seems to keep growing during the next many years. This makes the production of beta carotene interesting and finding a new better production organism can therefore be essential for future beta carotene production. (Kilde: https://www.marketdataforecast.com/market-reports/beta-carotene-market)\n",
    "\n",
    "\n",
    "\n",
    "\n",
    "\n",
    "\n",
    "\n",
    "\n",
    "\n"
   ]
  },
  {
   "cell_type": "markdown",
   "metadata": {},
   "source": [
    "## 2. Problem definition (<300 words)"
   ]
  },
  {
   "cell_type": "markdown",
   "metadata": {},
   "source": [
    "## 3. *If Project category I:* Reconstruction of a new GSM for your cell factory host of interest (<1500 words)"
   ]
  },
  {
   "cell_type": "code",
   "execution_count": 3,
   "metadata": {},
   "outputs": [],
   "source": [
    "from cobra.io import read_sbml_model"
   ]
  },
  {
   "cell_type": "code",
   "execution_count": null,
   "metadata": {},
   "outputs": [],
   "source": []
  },
  {
   "cell_type": "code",
   "execution_count": 1,
   "metadata": {},
   "outputs": [
    {
     "name": "stdout",
     "output_type": "stream",
     "text": [
      "Running diamond for the first time, please wait while we build the internal database...\n",
      "diamond v2.0.4.142 (C) Max Planck Society for the Advancement of Science\n",
      "Documentation, support and updates available at http://www.diamondsearch.org\n",
      "\n",
      "#CPU threads: 32\n",
      "Scoring parameters: (Matrix=BLOSUM62 Lambda=0.267 K=0.041 Penalties=11/1)\n",
      "Database input file: /usr/local/lib/python3.6/dist-packages/carveme/data/input/bigg_proteins.faa\n",
      "Opening the database file... Permission denied\n",
      " [0.001s]\n",
      "Error: Error opening file /usr/local/lib/python3.6/dist-packages/carveme/data/generated/bigg_proteins.dmnd\n",
      "Failed to run diamond (wrong arguments).\n",
      "File exists, skipping.\n",
      "diamond v2.0.4.142 (C) Max Planck Society for the Advancement of Science\n",
      "Documentation, support and updates available at http://www.diamondsearch.org\n",
      "\n",
      "#CPU threads: 32\n",
      "Scoring parameters: (Matrix=BLOSUM62 Lambda=0.267 K=0.041 Penalties=11/1)\n",
      "Temporary directory: \n",
      "Opening the database... No such file or directory\n",
      " [0.01s]\n",
      "Error: Error opening file /usr/local/lib/python3.6/dist-packages/carveme/data/generated/bigg_proteins.dmnd\n",
      "Failed to run diamond.\n"
     ]
    }
   ],
   "source": [
    "!carve --refseq GCF_001680045.1 --output vibrio_LB.xml --gapfill LB --init LB"
   ]
  },
  {
   "cell_type": "code",
   "execution_count": 1,
   "metadata": {},
   "outputs": [
    {
     "name": "stdout",
     "output_type": "stream",
     "text": [
      "Running diamond for the first time, please wait while we build the internal database...\n",
      "diamond v2.0.4.142 (C) Max Planck Society for the Advancement of Science\n",
      "Documentation, support and updates available at http://www.diamondsearch.org\n",
      "\n",
      "#CPU threads: 32\n",
      "Scoring parameters: (Matrix=BLOSUM62 Lambda=0.267 K=0.041 Penalties=11/1)\n",
      "Database input file: /usr/local/lib/python3.6/dist-packages/carveme/data/input/bigg_proteins.faa\n",
      "Opening the database file... Permission denied\n",
      " [0s]\n",
      "Error: Error opening file /usr/local/lib/python3.6/dist-packages/carveme/data/generated/bigg_proteins.dmnd\n",
      "Failed to run diamond (wrong arguments).\n",
      "File exists, skipping.\n",
      "diamond v2.0.4.142 (C) Max Planck Society for the Advancement of Science\n",
      "Documentation, support and updates available at http://www.diamondsearch.org\n",
      "\n",
      "#CPU threads: 32\n",
      "Scoring parameters: (Matrix=BLOSUM62 Lambda=0.267 K=0.041 Penalties=11/1)\n",
      "Temporary directory: \n",
      "Opening the database... No such file or directory\n",
      " [0s]\n",
      "Error: Error opening file /usr/local/lib/python3.6/dist-packages/carveme/data/generated/bigg_proteins.dmnd\n",
      "Failed to run diamond.\n"
     ]
    }
   ],
   "source": [
    "!carve --refseq GCF_001680045.1 --output Vibrio-natriegens-M9.xml --gapfill M9 --init M9\n"
   ]
  },
  {
   "cell_type": "code",
   "execution_count": 50,
   "metadata": {},
   "outputs": [],
   "source": [
    "modelLB = read_sbml_model('Vibrio-natriegens-CCUG16371-LB.xml')\n",
    "modelM9 = read_sbml_model('Vibrio-natriegens-CCUG16371-M9.xml')"
   ]
  },
  {
   "cell_type": "raw",
   "metadata": {},
   "source": [
    "Now, just for some basic information about the model of Vibrio natriegens created from carveme:"
   ]
  },
  {
   "cell_type": "code",
   "execution_count": 51,
   "metadata": {},
   "outputs": [
    {
     "name": "stdout",
     "output_type": "stream",
     "text": [
      "Number of reactions: 2476\n",
      "Number of metabolites: 1576\n",
      "Number of genes included in the model: 1368\n",
      "% of genes in model compared to the number of coding genes in Vibrio natrigens(4451 genes): 30.734666367108517\n"
     ]
    }
   ],
   "source": [
    "print(\"Number of reactions:\", len(modelLB.reactions))\n",
    "print(\"Number of metabolites:\", len(modelLB.metabolites))\n",
    "print(\"Number of genes included in the model:\", len(modelLB.genes))\n",
    "print(\"% of genes in model compared to the number of coding genes in Vibrio natrigens(4451 genes):\",(len(modelLB.genes)/4451)*100)\n"
   ]
  },
  {
   "cell_type": "raw",
   "metadata": {},
   "source": [
    "Comparing the two models´ growth rate with the actually growth rate of V. natriegens experimentially determined in minimal- and complex media:"
   ]
  },
  {
   "cell_type": "code",
   "execution_count": 52,
   "metadata": {},
   "outputs": [
    {
     "name": "stdout",
     "output_type": "stream",
     "text": [
      "Maximal growth rate of Vibrio natriegens in LB medium: 4.493034109031009\n",
      "Maximal growth rate of Vibrio natriegens in M9 medium 0.7428597095114109\n"
     ]
    }
   ],
   "source": [
    "print(\"Maximal growth rate of Vibrio natriegens in LB medium:\", modelLB.optimize().objective_value)\n",
    "print(\"Maximal growth rate of Vibrio natriegens in M9 medium\", modelM9.optimize().objective_value)"
   ]
  },
  {
   "cell_type": "raw",
   "metadata": {},
   "source": [
    "Long et al. found (http://production.datastore.cvt.dk/filestore?oid=5a16e6c15010df320456bcb7&targetid=5a16e6c15010df320456bcbb) the specific growth rate of V. natrigens grown as a batch culture in minimal media(M9 media) to be 1.70 1/h (a doubling time of app. 24 min)"
   ]
  },
  {
   "cell_type": "raw",
   "metadata": {},
   "source": [
    "Long et al. further found, using carbon-13 flux analysis, that V. natriegens had an glucose rate uptake of 21.4 mmol/g_DW/h "
   ]
  },
  {
   "cell_type": "code",
   "execution_count": 57,
   "metadata": {},
   "outputs": [
    {
     "data": {
      "text/plain": [
       "-10.0"
      ]
     },
     "execution_count": 57,
     "metadata": {},
     "output_type": "execute_result"
    }
   ],
   "source": [
    "solution = modelM9.optimize()\n",
    "solution.fluxes.EX_glc__D_e"
   ]
  },
  {
   "cell_type": "code",
   "execution_count": null,
   "metadata": {},
   "outputs": [],
   "source": []
  },
  {
   "cell_type": "raw",
   "metadata": {},
   "source": [
    "A change in the uptake rate of glucose has to be made:"
   ]
  },
  {
   "cell_type": "code",
   "execution_count": 58,
   "metadata": {},
   "outputs": [],
   "source": [
    "modelc = modelM9.copy()"
   ]
  },
  {
   "cell_type": "code",
   "execution_count": 59,
   "metadata": {},
   "outputs": [
    {
     "data": {
      "text/html": [
       "<strong><em>Optimal</em> solution with objective value 0.922</strong><br><div>\n",
       "<style scoped>\n",
       "    .dataframe tbody tr th:only-of-type {\n",
       "        vertical-align: middle;\n",
       "    }\n",
       "\n",
       "    .dataframe tbody tr th {\n",
       "        vertical-align: top;\n",
       "    }\n",
       "\n",
       "    .dataframe thead th {\n",
       "        text-align: right;\n",
       "    }\n",
       "</style>\n",
       "<table border=\"1\" class=\"dataframe\">\n",
       "  <thead>\n",
       "    <tr style=\"text-align: right;\">\n",
       "      <th></th>\n",
       "      <th>fluxes</th>\n",
       "      <th>reduced_costs</th>\n",
       "    </tr>\n",
       "  </thead>\n",
       "  <tbody>\n",
       "    <tr>\n",
       "      <th>12DGR161tipp</th>\n",
       "      <td>0.000000</td>\n",
       "      <td>0.000000e+00</td>\n",
       "    </tr>\n",
       "    <tr>\n",
       "      <th>12DGR181tipp</th>\n",
       "      <td>0.000000</td>\n",
       "      <td>0.000000e+00</td>\n",
       "    </tr>\n",
       "    <tr>\n",
       "      <th>12PPDStex</th>\n",
       "      <td>0.000000</td>\n",
       "      <td>-0.000000e+00</td>\n",
       "    </tr>\n",
       "    <tr>\n",
       "      <th>12PPDStpp</th>\n",
       "      <td>0.000000</td>\n",
       "      <td>-0.000000e+00</td>\n",
       "    </tr>\n",
       "    <tr>\n",
       "      <th>12PPDt</th>\n",
       "      <td>0.000000</td>\n",
       "      <td>0.000000e+00</td>\n",
       "    </tr>\n",
       "    <tr>\n",
       "      <th>...</th>\n",
       "      <td>...</td>\n",
       "      <td>...</td>\n",
       "    </tr>\n",
       "    <tr>\n",
       "      <th>sink_hmfurn_c</th>\n",
       "      <td>-0.000000</td>\n",
       "      <td>0.000000e+00</td>\n",
       "    </tr>\n",
       "    <tr>\n",
       "      <th>sink_lipopb_c</th>\n",
       "      <td>-0.000000</td>\n",
       "      <td>0.000000e+00</td>\n",
       "    </tr>\n",
       "    <tr>\n",
       "      <th>sink_sheme_c</th>\n",
       "      <td>-0.000000</td>\n",
       "      <td>0.000000e+00</td>\n",
       "    </tr>\n",
       "    <tr>\n",
       "      <th>Growth</th>\n",
       "      <td>0.922203</td>\n",
       "      <td>1.421085e-14</td>\n",
       "    </tr>\n",
       "    <tr>\n",
       "      <th>ATPM</th>\n",
       "      <td>0.000000</td>\n",
       "      <td>-1.110223e-16</td>\n",
       "    </tr>\n",
       "  </tbody>\n",
       "</table>\n",
       "<p>2476 rows × 2 columns</p>\n",
       "</div>"
      ],
      "text/plain": [
       "<Solution 0.922 at 0x7feebbdd14a8>"
      ]
     },
     "execution_count": 59,
     "metadata": {},
     "output_type": "execute_result"
    }
   ],
   "source": [
    "modelc.reactions.EX_glc__D_e.bounds = -21.4,-21.4\n",
    "(modelc.optimize())"
   ]
  },
  {
   "cell_type": "raw",
   "metadata": {},
   "source": [
    "So the specific growth rate has been improved to be 0.922 1/h\n",
    "But it does still not correspond to the actual data found by Long et al.\n",
    "For further optimization of the specific growth rate of this projects model the uptake rate of oxygen be changed;\n",
    "Long et. al. found that V. natriegens had an oxygen uptake rate of 28 mmol/g/h.\n",
    "This project's model on minimal M9 media of V. natriegens has a oxygen uptake rate of 10 mmol/g/h:"
   ]
  },
  {
   "cell_type": "code",
   "execution_count": 60,
   "metadata": {},
   "outputs": [
    {
     "data": {
      "text/plain": [
       "-10.0"
      ]
     },
     "execution_count": 60,
     "metadata": {},
     "output_type": "execute_result"
    }
   ],
   "source": [
    "solution.fluxes.EX_o2_e"
   ]
  },
  {
   "cell_type": "raw",
   "metadata": {},
   "source": []
  },
  {
   "cell_type": "code",
   "execution_count": 84,
   "metadata": {},
   "outputs": [
    {
     "data": {
      "text/plain": [
       "0.9222026623715582"
      ]
     },
     "execution_count": 84,
     "metadata": {},
     "output_type": "execute_result"
    }
   ],
   "source": [
    "modelc.reactions.EX_o2_e.bounds = -28.4, -28.4\n",
    "modelc.optimize().objective_value"
   ]
  },
  {
   "cell_type": "raw",
   "metadata": {},
   "source": [
    "no change in the specific growth rate is seen when changing the bounds of oxygen uptake"
   ]
  },
  {
   "cell_type": "raw",
   "metadata": {},
   "source": [
    "Other observations made by Long et. al. 13-C metabolic flux analysis was:\n",
    "high glycolytic flux  for:\n",
    "80 ± 0.5 for phosphoglucose isomerase,\n",
    "169 ± 1 for glyceraldehyde 3-phosphate dehydrogenase,\n",
    "a flux of 27 ± 1  via phosphoenolpyruvate carboxylase,\n",
    "17 ± 1 for citrate synthase,\n",
    "7 ± 0.4 for α-ketoglutarate dehydrogenase\n",
    "\n",
    "Above fluxes have been normalized to\n",
    "glucose uptake rate of 100(21.4 mmol/g/h)"
   ]
  },
  {
   "cell_type": "raw",
   "metadata": {},
   "source": [
    "modelc.reactions.PGI = phosphoglucose isomerase = app. 0.8*21.4 mmol/g/h\n",
    "modelc.reactions.GAPD = glyceraldehyde 3-phosphate dehydrogenase = app. 1.69*21.4 mmol/g/h\n",
    "modelc.reactions.PPC = Phosphoenolpyruvate carboxylase = app. 0.27*21.4 mmol/g/h\n",
    "modelc.reactions.MCITS = methylated citrate synthase = app. 0.17*21.4 mmol/g/h\n",
    "model.reactions.AKGDH = α-ketoglutarate dehydrogenase = app. 0.07*21.4 mmol/g/h"
   ]
  },
  {
   "cell_type": "code",
   "execution_count": 147,
   "metadata": {},
   "outputs": [],
   "source": [
    "modelc.reactions.PGI.bounds = -0.8*21.4,-0.8*21.4\n",
    "modelc.reactions.GAPD.bounds = -1.69*21.4,1.69*21.4\n",
    "modelc.reactions.PPC.bounds = -0.17*21.4,0.17*21.4\n",
    "modelc.reactions.AKGDH =-0.07*21.4,0.07*21.4"
   ]
  },
  {
   "cell_type": "code",
   "execution_count": 148,
   "metadata": {},
   "outputs": [
    {
     "name": "stdout",
     "output_type": "stream",
     "text": [
      "0.9222026623715314\n"
     ]
    }
   ],
   "source": [
    "print(modelc.optimize().objective_value)"
   ]
  },
  {
   "cell_type": "raw",
   "metadata": {},
   "source": [
    "By changing the above fluxes to resemble did not affect the specific growth rate.\n",
    "Only the change of glucose uptake rate has affected the specific growth rate in this model grown on M9"
   ]
  },
  {
   "cell_type": "code",
   "execution_count": null,
   "metadata": {},
   "outputs": [],
   "source": []
  },
  {
   "cell_type": "code",
   "execution_count": null,
   "metadata": {},
   "outputs": [],
   "source": []
  },
  {
   "cell_type": "raw",
   "metadata": {},
   "source": [
    "## 4. Computer-Aided Cell Factory Engineering (<1500 words if Category II project; <500 words for Category I project)"
   ]
  },
  {
   "cell_type": "code",
   "execution_count": null,
   "metadata": {},
   "outputs": [],
   "source": []
  },
  {
   "cell_type": "markdown",
   "metadata": {},
   "source": [
    "## 5. Discussion (<500 words)"
   ]
  },
  {
   "cell_type": "markdown",
   "metadata": {},
   "source": [
    "## 6. Conclusion (<200 words)"
   ]
  },
  {
   "cell_type": "code",
   "execution_count": null,
   "metadata": {},
   "outputs": [],
   "source": [
    "mikkel emma"
   ]
  },
  {
   "cell_type": "code",
   "execution_count": null,
   "metadata": {},
   "outputs": [],
   "source": [
    "\n",
    "\n",
    "## References"
   ]
  },
  {
   "cell_type": "markdown",
   "metadata": {},
   "source": [
    "Eichmann J, Oberpaul M, Weidner T, Gerlach D, Czermak P (2019) Selection of High Producers From Combinatorial Libraries for the Production of Recombinant Proteins in Escherichia coli and Vibrio natriegens. Front Bioeng Biotechnol 7: \n",
    "\n",
    "Hoff J, Daniel B, Stukenberg D, Thuronyi BW, Waldminghaus T, Fritz G (2020) Vibrio natriegens : an ultrafast‐growing marine bacterium as emerging synthetic biology chassis. Environ Microbiol 22:4394–4408 \n",
    "\n",
    "Hoffart E, Grenz S, Lange J, Nitschel R, Müller F, Schwentner A, Feith A, Lenfers-Lücker M, Takors R, Blombach B (2017) High substrate uptake rates empower Vibrio natriegens as production host for industrial biotechnology. Appl Environ Microbiol 83: \n",
    "\n",
    "Tschirhart T, Shukla V, Kelly EE, Schultzhaus Z, Newringeisen E, Erickson JS, Wang Z, Garcia W, Curl E, Egbert RG, Yeung E, Vora GJ (2019) Synthetic Biology Tools for the Fast-Growing Marine Bacterium Vibrio natriegens. ACS Synth Biol 8:2069–2079\n"
   ]
  }
 ],
 "metadata": {
  "kernelspec": {
   "display_name": "python3.6",
   "language": "python",
   "name": "python3.6"
  },
  "language_info": {
   "codemirror_mode": {
    "name": "ipython",
    "version": 3
   },
   "file_extension": ".py",
   "mimetype": "text/x-python",
   "name": "python",
   "nbconvert_exporter": "python",
   "pygments_lexer": "ipython3",
   "version": "3.6.12"
  }
 },
 "nbformat": 4,
 "nbformat_minor": 4
}
