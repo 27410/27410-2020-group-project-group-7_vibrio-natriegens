{
 "cells": [
  {
   "cell_type": "code",
   "execution_count": 2,
   "metadata": {},
   "outputs": [],
   "source": [
    "from cobra.io import read_sbml_model\n",
    "model=read_sbml_model('modelc.xml')"
   ]
  },
  {
   "cell_type": "code",
   "execution_count": 6,
   "metadata": {},
   "outputs": [],
   "source": [
    "for metabolite in model.metabolites:\n",
    "    name=metabolite.name\n",
    "    #print(name)"
   ]
  },
  {
   "cell_type": "code",
   "execution_count": 4,
   "metadata": {},
   "outputs": [
    {
     "name": "stdout",
     "output_type": "stream",
     "text": [
      "frdp_c\n"
     ]
    }
   ],
   "source": [
    "for metabolite in model.metabolites:\n",
    "    name=metabolite.name\n",
    "    if name=='Farnesyl diphosphate':\n",
    "        print(metabolite)"
   ]
  },
  {
   "cell_type": "code",
   "execution_count": 5,
   "metadata": {},
   "outputs": [
    {
     "name": "stdout",
     "output_type": "stream",
     "text": [
      "ipdp_c\n"
     ]
    }
   ],
   "source": [
    "for metabolite in model.metabolites:\n",
    "    name=metabolite.name\n",
    "    if name=='Isopentenyl diphosphate':\n",
    "        print(metabolite)"
   ]
  }
 ],
 "metadata": {
  "kernelspec": {
   "display_name": "Python 3",
   "language": "python",
   "name": "python3"
  },
  "language_info": {
   "codemirror_mode": {
    "name": "ipython",
    "version": 3
   },
   "file_extension": ".py",
   "mimetype": "text/x-python",
   "name": "python",
   "nbconvert_exporter": "python",
   "pygments_lexer": "ipython3",
   "version": "3.8.5"
  }
 },
 "nbformat": 4,
 "nbformat_minor": 4
}
