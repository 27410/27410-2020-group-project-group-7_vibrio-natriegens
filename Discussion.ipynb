{
 "cells": [
  {
   "cell_type": "markdown",
   "metadata": {},
   "source": [
    "The GSM model was constructed from carveme and adjusted according to the experimental fluxes and uptakes found in Long *et al.* 2017. However, the growth rate obtained in this report with the newly constructed GSM model was 0.92 h<sup>-1</sup> was significantly lower than the experimental found growth rate from the before mentioned article on 1.7 h<sup>-1</sup>. It is still unknown why this is, but for further research more experimental data should be made to adjust the GSM model even more to match the living cell. Still the GSM model constructed yields a higher growth rate than the *E. coli* iML1515 model on 0.88 h<sup>-1</sup>.\n",
    "\n",
    "Beta-carotene has previously been successfully expressed in *V. natriegens* and thus verifies that the heterologous expression is possible (Ellis et al. 2019). In that study, the titer of beta-carotene was approximately 0.5 mg/L without adding the MVA pathway. The beta-carotene production in *V. natriegens* was increased approximately 6-fold in LBv2 rich medium when the MVA pathway from *Lactobacillus acidophilus* NCFM was additionally introduced (Ellis et al. 2019). When the MVA-pathway was introduced into *V. natriegens*, the titer was almost 3 mg/L (Ellis et al. 2019). The titer was not calculated in this report as no volume was mentioned. To compare the results obtained in Ellis *et al.* 2019 with this report, the maximal theoretical production rate of beta-carotene was calculated with the MVA pathway introduced to 2.02 mmol gDW<sup>-1</sup> h<sup>-1</sup> and without to 2.02 mmol gDW<sup>-1</sup> h<sup>-1</sup>. No difference between the two models was observed in respect to production rate of beta-carotene. The reason for this could be the GSM model not taken concentrations into count when calculating the fluxes of beta-carotene and therefore no bottleneck is observed of limiting precursors IPP and DMAPP. \\\n",
    "The maximal theoretical production of beta-carotene was furthermore observed to be more than 2-fold higher in *V. natriegens* compared to when introducing the beta-carotene pathway from *V. campbellii* in the *E. coli* iML1515 model. \n",
    "\n",
    "The heterologous expression of beta-carotene in *V. natriegens* in this study was meant as a proof-of-concept to investigate if production in this host was possible. The aim was thus not to improve the yield of beta-carotene. For this reason, it might be possible to experimentally achieve a higher yield.\n",
    "\n",
    "For further research one should look into optimizing the GSM model with more experimental data with fluxes of precursors to determine the uptake and flux rates more precisely. Also it can be necessary to do some gene knockout for further research to obtain the growth rate from Long *et al.* 2017.\n"
   ]
  },
  {
   "cell_type": "markdown",
   "metadata": {},
   "source": [
    "### Til section 4"
   ]
  },
  {
   "cell_type": "code",
   "execution_count": 3,
   "metadata": {},
   "outputs": [],
   "source": [
    "from cobra.io import read_sbml_model"
   ]
  },
  {
   "cell_type": "code",
   "execution_count": 5,
   "metadata": {},
   "outputs": [],
   "source": [
    "modelBC = read_sbml_model('Models/modelBC.xml')"
   ]
  },
  {
   "cell_type": "code",
   "execution_count": 6,
   "metadata": {},
   "outputs": [],
   "source": [
    "from cobra.flux_analysis.phenotype_phase_plane import production_envelope, add_envelope"
   ]
  },
  {
   "cell_type": "code",
   "execution_count": 11,
   "metadata": {},
   "outputs": [],
   "source": [
    "ppp_beta = production_envelope(modelBC,\n",
    "                    reactions=[modelBC.reactions.Growth],\n",
    "                    objective=modelBC.reactions.Step8_beta)"
   ]
  },
  {
   "cell_type": "code",
   "execution_count": 13,
   "metadata": {},
   "outputs": [
    {
     "data": {
      "text/plain": [
       "<AxesSubplot:xlabel='Growth'>"
      ]
     },
     "execution_count": 13,
     "metadata": {},
     "output_type": "execute_result"
    },
    {
     "data": {
      "image/png": "[encoded data removed]",
      "text/plain": [
       "<Figure size 432x288 with 1 Axes>"
      ]
     },
     "metadata": {
      "needs_background": "light"
     },
     "output_type": "display_data"
    }
   ],
   "source": [
    "ppp_beta.plot(x='Growth', y='flux_maximum')"
   ]
  },
  {
   "cell_type": "code",
   "execution_count": null,
   "metadata": {},
   "outputs": [],
   "source": []
  }
 ],
 "metadata": {
  "kernelspec": {
   "display_name": "python3.6",
   "language": "python",
   "name": "python3.6"
  },
  "language_info": {
   "codemirror_mode": {
    "name": "ipython",
    "version": 3
   },
   "file_extension": ".py",
   "mimetype": "text/x-python",
   "name": "python",
   "nbconvert_exporter": "python",
   "pygments_lexer": "ipython3",
   "version": "3.6.12"
  }
 },
 "nbformat": 4,
 "nbformat_minor": 4
}
