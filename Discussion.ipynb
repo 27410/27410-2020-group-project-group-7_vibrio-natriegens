{
 "cells": [
  {
   "cell_type": "markdown",
   "metadata": {},
   "source": [
    "Some discussion of the construction of the GSM\n",
    "\n",
    "Beta-carotene has previously been succesfully expressed in *V. natriegens* and thus verifies that the heterologous expression is possible (Ellis et al. 2019). In that study, the titer of beta-carotene was approximately 0.5 mg/L without adding the MVA pathway. The beta-carotene production in *V. natriegens* was increased approximately 6-fold in LBv2 rich medium when the MVA pathway from from *Lactobacillus acidophilus* NCFM was additionally introduced (Ellis et al. 2019). When the MVA-pathway was introduced into *V. natriegens*, the titer was almost 3 mg/L (Ellis et al. 2019). The titer was not calculated in this report as no volume was mentioned. To compare the results obtained in Ellis *et al.* with this report the production rate of beta-carotene was calculated with and without the MVA pathway introduced. No difference between the two scenarios was seen in respect to production rate of beta-carotene. The reason for this could be the GSM model not taken concentrations.\n",
    "\n",
    "The maximal theoretical production of betacaroten was more than 2-fold higher in *V. natriegens* compared to the *E. coli* iML1515 model. \n",
    "\n",
    "The heterologous expression of beta-carotene in *V. natriegens* in this study was meant as a proof-of-concept to investigate if production in this host was possible. The aim was thus not to improve the yield of beta-carotene. For this reason, it might be possible to experimentally achieve a higher yield."
   ]
  },
  {
   "cell_type": "code",
   "execution_count": null,
   "metadata": {},
   "outputs": [],
   "source": []
  }
 ],
 "metadata": {
  "kernelspec": {
   "display_name": "python3.6",
   "language": "python",
   "name": "python3.6"
  },
  "language_info": {
   "codemirror_mode": {
    "name": "ipython",
    "version": 3
   },
   "file_extension": ".py",
   "mimetype": "text/x-python",
   "name": "python",
   "nbconvert_exporter": "python",
   "pygments_lexer": "ipython3",
   "version": "3.6.12"
  }
 },
 "nbformat": 4,
 "nbformat_minor": 4
}
